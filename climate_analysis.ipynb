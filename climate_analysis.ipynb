{
 "cells": [
  {
   "cell_type": "code",
   "execution_count": 3,
   "metadata": {},
   "outputs": [],
   "source": [
    "import datetime as dt\n",
    "import sqlalchemy\n",
    "from sqlalchemy.ext.automap import automap_base\n",
    "from sqlalchemy.orm import Session\n",
    "from sqlalchemy import create_engine, func\n",
    "from flask import Flask, jsonify\n",
    "import pandas as pd\n",
    "import matplotlib.pyplot as plt\n"
   ]
  },
  {
   "cell_type": "code",
   "execution_count": 4,
   "metadata": {},
   "outputs": [],
   "source": [
    "engine = create_engine(\"sqlite:///Resources/Hawaii.sqlite\")\n",
    "Base = automap_base()\n",
    "Base.prepare(engine, reflect=True)\n",
    "Station = Base.classes.station\n",
    "Measure = Base.classes.measurement\n",
    "session = Session(engine)\n",
    "#conn = engine.connect()"
   ]
  },
  {
   "cell_type": "code",
   "execution_count": 5,
   "metadata": {},
   "outputs": [],
   "source": [
    "sql=f\"select date,prcp from measurement where CAST((julianday('now') - julianday(date)) / 30 AS integer) < 24\"\n",
    "prcp_df = pd.read_sql(sql, engine, index_col=\"date\")"
   ]
  },
  {
   "cell_type": "code",
   "execution_count": 24,
   "metadata": {},
   "outputs": [
    {
     "data": {
      "text/plain": [
       "<matplotlib.axes._subplots.AxesSubplot at 0x27319d33d68>"
      ]
     },
     "execution_count": 24,
     "metadata": {},
     "output_type": "execute_result"
    },
    {
     "data": {
      "image/png": "[encoded data removed]",
      "text/plain": [
       "<matplotlib.figure.Figure at 0x27311eb2ef0>"
      ]
     },
     "metadata": {},
     "output_type": "display_data"
    }
   ],
   "source": [
    "#prcp_df.plot(kind='bar', stacked=True, width=10,color=\"#9b59b6\")\n",
    "prcp_df.plot()\n"
   ]
  },
  {
   "cell_type": "code",
   "execution_count": 45,
   "metadata": {},
   "outputs": [
    {
     "name": "stdout",
     "output_type": "stream",
     "text": [
      "(9,)\n"
     ]
    },
    {
     "data": {
      "text/plain": [
       "(9)"
      ]
     },
     "execution_count": 45,
     "metadata": {},
     "output_type": "execute_result"
    }
   ],
   "source": [
    "from sqlalchemy import distinct\n",
    "\n",
    "#to calculate the total number of stations.\n",
    "# from station table\n",
    "print(session.query(func.count(Station.station).label('Total')).first())\n",
    "\n",
    "#From measurement table\n",
    "session.query(func.count(distinct(Measure.station))).first()\n"
   ]
  },
  {
   "cell_type": "code",
   "execution_count": 34,
   "metadata": {},
   "outputs": [
    {
     "name": "stdout",
     "output_type": "stream",
     "text": [
      "USC00519281 2772\n",
      "USC00513117 2696\n",
      "USC00519397 2685\n",
      "USC00519523 2572\n",
      "USC00516128 2484\n",
      "USC00514830 1937\n",
      "USC00511918 1932\n",
      "USC00517948 683\n",
      "USC00518838 342\n"
     ]
    },
    {
     "name": "stderr",
     "output_type": "stream",
     "text": [
      "C:\\Users\\achole\\AppData\\Local\\conda\\conda\\envs\\PythonData\\lib\\site-packages\\sqlalchemy\\sql\\compiler.py:643: SAWarning: Can't resolve label reference 'Observation DESC'; converting to text() (this warning may be suppressed after 10 occurrences)\n",
      "  util.ellipses_string(element.element))\n"
     ]
    }
   ],
   "source": [
    "#List the stations and observation counts in descending order\n",
    "total_stations=session.query(Measure.station,func.count(Measure.station).label('Observation')).\\\n",
    "        group_by(Measure.station).order_by('Observation DESC')\n",
    "for stat in total_stations:\n",
    "    print(stat.station,stat.Observation)"
   ]
  },
  {
   "cell_type": "code",
   "execution_count": 35,
   "metadata": {},
   "outputs": [
    {
     "name": "stderr",
     "output_type": "stream",
     "text": [
      "C:\\Users\\achole\\AppData\\Local\\conda\\conda\\envs\\PythonData\\lib\\site-packages\\sqlalchemy\\sql\\compiler.py:643: SAWarning: Can't resolve label reference 'Observation DESC'; converting to text() (this warning may be suppressed after 10 occurrences)\n",
      "  util.ellipses_string(element.element))\n"
     ]
    },
    {
     "data": {
      "text/plain": [
       "('USC00519281', 2772)"
      ]
     },
     "execution_count": 35,
     "metadata": {},
     "output_type": "execute_result"
    }
   ],
   "source": [
    "#Which station has the highest number of observations?\n",
    "session.query(Measure.station,func.count(Measure.station).label('Observation')).\\\n",
    "        group_by(Measure.station).order_by('Observation DESC').first()"
   ]
  },
  {
   "cell_type": "code",
   "execution_count": 81,
   "metadata": {},
   "outputs": [
    {
     "data": {
      "text/plain": [
       "datetime.date(2016, 8, 18)"
      ]
     },
     "execution_count": 81,
     "metadata": {},
     "output_type": "execute_result"
    }
   ],
   "source": [
    "max_date_tuple=session.query(func.max(Measure.date).label('max_date')).\\\n",
    "        filter(Measure.station=='USC00519281').first()\n",
    "    \n",
    "start_date=max_date_tuple[0]-dt.timedelta(days=365)\n"
   ]
  },
  {
   "cell_type": "code",
   "execution_count": null,
   "metadata": {},
   "outputs": [],
   "source": [
    "sql=f\"select date,prcp from measurement where station='USC00519281' and date >{start_date}\"\n",
    "prcp_df = pd.read_sql(sql, engine, index_col=\"date\")"
   ]
  },
  {
   "cell_type": "code",
   "execution_count": 57,
   "metadata": {},
   "outputs": [],
   "source": [
    "def calc_temps(st_dt,end_dt):\n",
    "    sel = [func.min(Measure.tobs).label('TMIN'), \n",
    "       func.max(Measure.tobs).label('TMAX'), \n",
    "       func.avg(Measure.tobs).label('TAVG')]\n",
    "    start_date = dt.datetime.strptime(st_dt , '%Y-%m-%d')-dt.timedelta(days=1)\n",
    "    end_date = dt.datetime.strptime(end_dt , '%Y-%m-%d')\n",
    "    return session.query(*sel).filter(Measure.date >=start_date).filter(Measure.date<=end_date).first()\n"
   ]
  },
  {
   "cell_type": "code",
   "execution_count": 58,
   "metadata": {},
   "outputs": [],
   "source": [
    "get_trip_temp=calc_temps(\"2010-01-01\",\"2010-02-01\")"
   ]
  },
  {
   "cell_type": "code",
   "execution_count": 68,
   "metadata": {},
   "outputs": [
    {
     "data": {
      "text/plain": [
       "<Container object of 1 artists>"
      ]
     },
     "execution_count": 68,
     "metadata": {},
     "output_type": "execute_result"
    },
    {
     "data": {
      "image/png": "[encoded data removed]",
      "text/plain": [
       "<matplotlib.figure.Figure at 0x27319694128>"
      ]
     },
     "metadata": {},
     "output_type": "display_data"
    }
   ],
   "source": [
    "plt.bar((1), get_trip_temp[1], color=\"red\", align=\"edge\",yerr=get_trip_temp[2])"
   ]
  },
  {
   "cell_type": "code",
   "execution_count": null,
   "metadata": {},
   "outputs": [],
   "source": []
  }
 ],
 "metadata": {
  "kernelspec": {
   "display_name": "Python 3",
   "language": "python",
   "name": "python3"
  },
  "language_info": {
   "codemirror_mode": {
    "name": "ipython",
    "version": 3
   },
   "file_extension": ".py",
   "mimetype": "text/x-python",
   "name": "python",
   "nbconvert_exporter": "python",
   "pygments_lexer": "ipython3",
   "version": "3.6.4"
  }
 },
 "nbformat": 4,
 "nbformat_minor": 2
}
